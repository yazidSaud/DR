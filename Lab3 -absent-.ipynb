{
 "cells": [
  {
   "cell_type": "code",
   "execution_count": 2,
   "metadata": {},
   "outputs": [
    {
     "name": "stdout",
     "output_type": "stream",
     "text": [
      "['y', 'u', 'n']\n"
     ]
    }
   ],
   "source": [
    "import re\n",
    "\n",
    "txt = \"yazed Saud Algehani\"\n",
    "\n",
    "\n",
    "x = re.findall(\"[m-y]\", txt)\n",
    "print(x)"
   ]
  },
  {
   "cell_type": "code",
   "execution_count": 3,
   "metadata": {},
   "outputs": [
    {
     "name": "stdout",
     "output_type": "stream",
     "text": [
      " expression is a sequence of character(s) \n",
      "mainly used to find and replace patterns in a string or \n"
     ]
    }
   ],
   "source": [
    "import re\n",
    "txt = ''' Regular expression is a sequence of character(s) \n",
    "mainly used to find and replace patterns in a string or file'''\n",
    "\n",
    "start = txt.find(\"Regular\") + len(\"Regular\")\n",
    "end = txt.find(\"file\")\n",
    "substring = txt[start:end]\n",
    "print(substring)"
   ]
  },
  {
   "cell_type": "code",
   "execution_count": 4,
   "metadata": {},
   "outputs": [],
   "source": [
    "replacement_patterns = [\n",
    "(r'won\\'t', 'will not'),\n",
    "(r'can\\'t', 'cannot'),\n",
    "(r'i\\'m', 'i am'),\n",
    "(r'ain\\'t', 'is not'),\n",
    "(r'(\\w+)\\'ll', '\\g<1> will'),\n",
    "(r'(\\w+)n\\'t', '\\g<1> not'),\n",
    "(r'(\\w+)\\'ve', '\\g<1> have'),\n",
    "(r'(\\w+)\\'s', '\\g<1> is'),\n",
    "(r'(\\w+)\\'re', '\\g<1> are'),\n",
    "(r'(\\w+)\\'d', '\\g<1> would')] \n",
    "\n",
    "\n",
    "\n",
    "class RegexReplacer(object):\n",
    "    def __init__(self, patterns=replacement_patterns):\n",
    "        self.patterns = [(re.compile(regex), repl) for (regex, repl)in patterns]\n",
    "    def replace(self, text):\n",
    "        s = text\n",
    "        for (pattern, repl) in self.patterns:\n",
    "            (s, count) = re.subn(pattern, repl, s)\n",
    "        return s\n",
    "\n",
    "replacer = RegexReplacer()"
   ]
  },
  {
   "cell_type": "code",
   "execution_count": 5,
   "metadata": {},
   "outputs": [
    {
     "name": "stdout",
     "output_type": "stream",
     "text": [
      "We will see how to replace words using regular\n",
      "expressions such does not, cannot and so on\n"
     ]
    }
   ],
   "source": [
    "Sentence='''We'll see how to replace words using regular\n",
    "expressions such doesn't, can't and so on'''\n",
    "\n",
    "print(replacer.replace(Sentence))"
   ]
  },
  {
   "cell_type": "code",
   "execution_count": 6,
   "metadata": {},
   "outputs": [],
   "source": [
    "class RepeatReplacer(object):\n",
    "    def __init__(self):\n",
    "        self.repeat_regexp = re.compile(r'(\\w*)(\\w)\\2(\\w*)')\n",
    "        self.repl = r'\\1\\2\\3'\n",
    "    def replace(self, word):\n",
    "        repl_word = self.repeat_regexp.sub(self.repl, word)                                            \n",
    "        if repl_word != word:\n",
    "            return self.replace(repl_word)\n",
    "        else:\n",
    "            return repl_word \n",
    "        \n",
    "repeat = RepeatReplacer()"
   ]
  },
  {
   "cell_type": "code",
   "execution_count": 8,
   "metadata": {},
   "outputs": [
    {
     "name": "stdout",
     "output_type": "stream",
     "text": [
      "We like python\n"
     ]
    }
   ],
   "source": [
    "Sentence = 'We liiiikkkkkke python'\n",
    "\n",
    "print(repeat.replace(Sentence))"
   ]
  },
  {
   "cell_type": "code",
   "execution_count": 9,
   "metadata": {},
   "outputs": [
    {
     "name": "stdout",
     "output_type": "stream",
     "text": [
      "['(215) 886-3033', '(267) 241-3239', '(267) 246-8656', '(215) 361-2926', '(215) 886-3200']\n",
      "['mdwyer@mg-cc.org', 'morme@mg-cc.org', 'bfritz@mg-cc.org', 'bfritz@mg-cc.org', 'alazovitz@mg-cc.org', 'alazovitz@mg-cc.org', 'glenhart@mg-cc.org', 'glenhart@mg-cc.org', 'lhower@mg-cc.org', 'atate@mg-cc.org', 'kbeck@mg-cc.org', 'kbeck@mg-cc.org', 'bdoheny@mg-cc.org', 'bdoheny@mg-cc.org', 'ljcorr@mg-cc.org', 'ljcorr@mg-cc.org', 'DiningManager@mg-cc.org', 'DiningManager@mg-cc.org', 'cgiampa@mg-cc.org', 'cgiampa@mg-cc.org', 'jccotto@mg-cc.org', 'sfalatek@mg-cc.org', 'selmarobinson@gmail.com', 'selmairobinson@gmail.com', 'freycc@npenn.org', 'freycc@npenn.org', 'kmurphy@mg-cc.org', 'kmurphy@mg-cc.org']\n"
     ]
    }
   ],
   "source": [
    "import requests\n",
    "import re\n",
    "\n",
    "data = requests.get('http://www.mg-cc.org/club-information/club-contacts')\n",
    "\n",
    "phones = re.findall(r'[\\+\\(]?[1-9][0-9 .\\-\\(\\)]{8,}[0-9]', data.text)\n",
    "emails = re.findall(r'([\\d\\w\\.]+@[\\d\\w\\.\\-]+\\.\\w+)', data.text)\n",
    "\n",
    "print(phones)\n",
    "print(emails)"
   ]
  },
  {
   "cell_type": "code",
   "execution_count": null,
   "metadata": {},
   "outputs": [],
   "source": []
  }
 ],
 "metadata": {
  "kernelspec": {
   "display_name": "Python 3",
   "language": "python",
   "name": "python3"
  },
  "language_info": {
   "codemirror_mode": {
    "name": "ipython",
    "version": 3
   },
   "file_extension": ".py",
   "mimetype": "text/x-python",
   "name": "python",
   "nbconvert_exporter": "python",
   "pygments_lexer": "ipython3",
   "version": "3.8.3"
  }
 },
 "nbformat": 4,
 "nbformat_minor": 4
}
